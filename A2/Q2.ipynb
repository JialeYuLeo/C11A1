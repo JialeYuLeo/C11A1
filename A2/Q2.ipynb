{
 "cells": [
  {
   "cell_type": "markdown",
   "metadata": {},
   "source": [
    "### Question2\n",
    "When considering a binary classification problem where the class-conditional densities are Gaussian.\\\n",
    "The decision boundary is the set of points where the posterior probabilities of the two classes are equal, i.e., $P(C_1|x) = P(C_2|x)$. \n",
    "Suppose we have 2 classes $c_1$ and $c_2$, they has mean and variance ($\\mu_1$, $\\sigma_1$),($\\mu_2$, $\\sigma_2$) respectively. and $\\sigma_1 = \\sigma_2 = \\sigma$\n",
    "\n",
    "We have:\n",
    "\n",
    "$$\n",
    "    P(C_1|x) = \\frac{p(x|C_1)P(C_1)}{p(x)}\n",
    "$$\n",
    "\n",
    "$$\n",
    "    P(C_2|x) = \\frac{p(x|C_2)P(C_2)}{p(x)}\n",
    "$$\n",
    "\n",
    "We want: $P(C_1|x) = P(C_2|x)$\n",
    "We get:\n",
    "\n",
    "$$ \\frac{p(x|C_1)P(C_1)}{p(x)} = \\frac{p(x|C_2)P(C_2)}{p(x)} $$\n",
    "\n",
    "Simplifying, we get:\n",
    "\n",
    "$$ p(x|C_1)P(C_1) = p(x|C_2)P(C_2) $$\n",
    "\n",
    "Substitute $p(x|C_i)$, we get:\n",
    "\n",
    "$$ \\frac{1}{\\sigma\\sqrt{2\\pi}}e^{-\\frac{(x-\\mu_1)^2}{2\\sigma^2}}P(C1) = \\frac{1}{\\sigma\\sqrt{2\\pi}}e^{-\\frac{(x-\\mu_2)^2}{2\\sigma^2}}P(C2) $$\n",
    "\n",
    "Simplifying, we get:\n",
    "\n",
    "$$ e^{-\\frac{(x-\\mu_1)^2}{2\\sigma^2}}P(C_1) = e^{-\\frac{(x-\\mu_2)^2}{2\\sigma^2}}P(C_2) $$\n",
    "\n",
    "Taking the natural logarithm of both sides, we get:\n",
    "\n",
    "$$ -\\frac{(x-\\mu_1)^2}{2\\sigma^2} + \\ln P(C_1) = -\\frac{(x-\\mu_2)^2}{2\\sigma^2} + \\ln P(C_2) $$\n",
    "\n",
    "we get:\n",
    "\n",
    "$$ x = \\frac{\\mu_1 + \\mu_2}{2} + \\frac{\\sigma^2 (\\ln P(C_2) - \\ln P(C_1))}{\\mu_2 - \\mu_1} $$\n",
    "\n"
   ]
  }
 ],
 "metadata": {
  "language_info": {
   "name": "python"
  }
 },
 "nbformat": 4,
 "nbformat_minor": 2
}

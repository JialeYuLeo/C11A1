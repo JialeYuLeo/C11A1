{
 "cells": [
  {
   "cell_type": "markdown",
   "metadata": {},
   "source": [
    "### Part a"
   ]
  },
  {
   "cell_type": "markdown",
   "metadata": {},
   "source": [
    "#### Reads data set"
   ]
  },
  {
   "cell_type": "code",
   "execution_count": 1,
   "metadata": {},
   "outputs": [],
   "source": [
    "import pandas as pd\n",
    "import numpy as np\n",
    "from sklearn.model_selection import train_test_split\n",
    "\n",
    "freq = pd.read_table(\"bbc/bbc.mtx\", skiprows=2, sep=' ', header=None).astype(int).to_numpy()\n",
    "classes = pd.read_table(\"bbc/bbc.classes\", index_col=False, skiprows=4, sep=' ', header=None).astype(int).to_numpy()\n",
    "terms = pd.read_table(\"bbc/bbc.terms\", header=None).to_numpy()\n",
    "\n",
    "doc_num = classes.shape[0]\n",
    "feature_num = terms.shape[0]\n",
    "data = np.zeros((doc_num, feature_num + 1), dtype=int)\n",
    "\n",
    "# Populate data array\n",
    "for row in freq:\n",
    "    term_id, doc_id, frequency = row\n",
    "    # Assuming doc_id and term_id are 1-indexed, decrement them to make them 0-indexed\n",
    "    doc_id -= 1\n",
    "    term_id -= 1\n",
    "    data[int(doc_id), int(term_id)] = int(frequency)\n",
    "\n",
    "# Populate the last column of data with class labels\n",
    "data[:, -1] = classes[:, 1]"
   ]
  },
  {
   "cell_type": "code",
   "execution_count": 2,
   "metadata": {},
   "outputs": [],
   "source": [
    "X_train, X_test = train_test_split(data, test_size=0.3)\n",
    "\n",
    "# Separate features and target\n",
    "X_train_features = X_train[:, :-1]\n",
    "y_train = X_train[:, -1]\n",
    "\n",
    "X_test_features = X_test[:, :-1]\n",
    "y_test = X_test[:, -1]"
   ]
  },
  {
   "cell_type": "markdown",
   "metadata": {},
   "source": [
    "#### Training"
   ]
  },
  {
   "cell_type": "code",
   "execution_count": 3,
   "metadata": {},
   "outputs": [],
   "source": [
    "from collections import defaultdict\n",
    "\n",
    "def train_naive_bayes(X_train, y_train):\n",
    "\n",
    "    num_classes = 5\n",
    "    num_features = X_train.shape[1]\n",
    "    # Convert term frequencies to binary representation\n",
    "    binary_train_data =  np.where(X_train > 0, 1, 0)\n",
    "\n",
    "    \n",
    "    class_probs = [1/2,1/2,1/2,1/2,1/2]\n",
    "    class_count=[0,0,0,0,0]\n",
    "    for label in y_train:\n",
    "        class_count[label] += 1\n",
    "    total_docs = len(y_train)\n",
    "\n",
    "    for c in range(5):\n",
    "        class_probs[c] =  class_count[c] / total_docs\n",
    "\n",
    "\n",
    "    # # Calculate term probabilities with Laplace smoothing\n",
    "    term_occ = np.zeros((num_classes, num_features))\n",
    "    aij = np.zeros((num_classes, num_features))\n",
    "\n",
    "    for i in range(len(binary_train_data)):\n",
    "        label = y_train[i]\n",
    "        term_occ[label] += binary_train_data[i]\n",
    "\n",
    "    \n",
    "    for label in range(5):\n",
    "        for i in range(num_features):\n",
    "            if term_occ[label][i] == 0:\n",
    "                # Apply Laplace smoothing only if the term probability is 0\n",
    "                aij[label][i] = 1 / (class_count[label] + 2)\n",
    "            else:\n",
    "                # If the term probability is not 0, use the original probability\n",
    "                aij[label][i] = term_occ[label][i] / class_count[label]\n",
    "\n",
    "    \n",
    "    return class_probs, aij\n"
   ]
  },
  {
   "cell_type": "markdown",
   "metadata": {},
   "source": [
    "#### Predict"
   ]
  },
  {
   "cell_type": "code",
   "execution_count": 4,
   "metadata": {},
   "outputs": [],
   "source": [
    "def predict_naive_bayes(X_test, class_probs, term_probs):\n",
    "    predictions = []\n",
    "    num_features = X_test.shape[1]\n",
    "    # Convert term frequencies to binary representation\n",
    "    binary_test_data =  np.where(X_test > 0, 1, 0)\n",
    "\n",
    "\n",
    "    for k in range(len(binary_test_data)):\n",
    "        alpha = [0,0,0,0,0]\n",
    "        for j in range(5):\n",
    "            for i in range(num_features):\n",
    "                if binary_test_data[k][i] != 0:\n",
    "                    alpha[j] += np.log(term_probs[j][i])\n",
    "                else:\n",
    "                    alpha[j] += np.log(1-term_probs[j][i])\n",
    "            alpha[j] += np.log(class_probs[j])\n",
    "        gamma = np.min(alpha)\n",
    "        posterier = [0,0,0,0,0]\n",
    "        exp = np.sum(np.exp(alpha-gamma))\n",
    "        for j in range(5):\n",
    "            posterier[j] = np.exp(alpha[j] - gamma)/exp\n",
    "        predictions.append(np.argmax(posterier))\n",
    "    return np.array(predictions)\n",
    "\n",
    "\n",
    "# Train the model\n",
    "class_probs, term_probs = train_naive_bayes(X_train_features, y_train)\n",
    "\n",
    "# Predict on the test set\n",
    "y_pred = predict_naive_bayes(X_test_features, class_probs, term_probs)"
   ]
  },
  {
   "cell_type": "markdown",
   "metadata": {},
   "source": [
    "#### Accuracy"
   ]
  },
  {
   "cell_type": "code",
   "execution_count": 5,
   "metadata": {},
   "outputs": [
    {
     "name": "stdout",
     "output_type": "stream",
     "text": [
      "Training Accuracy: 98.65%\n",
      "Testing Accuracy: 96.26%\n"
     ]
    }
   ],
   "source": [
    "train_predictions = predict_naive_bayes(X_train_features, class_probs, term_probs)\n",
    "test_predictions = predict_naive_bayes(X_test_features, class_probs, term_probs)\n",
    "\n",
    "# Compare predictions with actual labels\n",
    "train_accuracy = np.mean(train_predictions == y_train)\n",
    "test_accuracy = np.mean(test_predictions == y_test)\n",
    "\n",
    "# Print classification accuracy\n",
    "print(f\"Training Accuracy: {train_accuracy * 100:.2f}%\")\n",
    "print(f\"Testing Accuracy: {test_accuracy * 100:.2f}%\")\n"
   ]
  },
  {
   "cell_type": "markdown",
   "metadata": {},
   "source": [
    "### Part b"
   ]
  },
  {
   "cell_type": "markdown",
   "metadata": {},
   "source": [
    "#### Load\n"
   ]
  },
  {
   "cell_type": "code",
   "execution_count": 7,
   "metadata": {},
   "outputs": [],
   "source": [
    "freq = pd.read_table(\"bbc/bbc.mtx\", skiprows=2, sep=' ', header=None).astype(int).to_numpy()\n",
    "classes = pd.read_table(\"bbc/bbc.classes\", index_col=False, skiprows=4, sep=' ', header=None).astype(int).to_numpy()\n",
    "terms = pd.read_table(\"bbc/bbc.terms\", header=None).to_numpy()\n",
    "\n",
    "doc_num = classes.shape[0]\n",
    "feature_num = terms.shape[0]\n",
    "data = np.zeros((doc_num, feature_num + 1), dtype=int)\n",
    "\n",
    "# Populate data array\n",
    "for row in freq:\n",
    "    term_id, doc_id, frequency = row\n",
    "    # Assuming doc_id and term_id are 1-indexed, decrement them to make them 0-indexed\n",
    "    doc_id -= 1\n",
    "    term_id -= 1\n",
    "    data[int(doc_id), int(term_id)] = int(frequency)\n",
    "\n",
    "# Populate the last column of data with class labels\n",
    "data[:, -1] = classes[:, 1]\n",
    "X_train, X_test = train_test_split(data, test_size=0.3)\n",
    "\n",
    "# Separate features and target\n",
    "X_train_features = X_train[:, :-1]\n",
    "y_train = X_train[:, -1]\n",
    "\n",
    "X_test_features = X_test[:, :-1]\n",
    "y_test = X_test[:, -1]"
   ]
  },
  {
   "cell_type": "markdown",
   "metadata": {},
   "source": [
    "#### Training"
   ]
  },
  {
   "cell_type": "code",
   "execution_count": 13,
   "metadata": {
    "scrolled": false
   },
   "outputs": [
    {
     "data": {
      "text/plain": [
       "array([[1, 0, 0, ..., 0, 0, 0],\n",
       "       [0, 0, 0, ..., 0, 0, 0],\n",
       "       [0, 0, 0, ..., 0, 0, 0],\n",
       "       ...,\n",
       "       [2, 0, 0, ..., 0, 0, 0],\n",
       "       [0, 0, 0, ..., 0, 0, 0],\n",
       "       [1, 0, 0, ..., 0, 0, 0]])"
      ]
     },
     "execution_count": 13,
     "metadata": {},
     "output_type": "execute_result"
    }
   ],
   "source": [
    "X_test_features"
   ]
  },
  {
   "cell_type": "code",
   "execution_count": 88,
   "metadata": {},
   "outputs": [],
   "source": [
    "def calculate_class_statistics(X_train, y_train):\n",
    "    unique_classes = np.unique(y_train)\n",
    "    class_stats = {}\n",
    "\n",
    "    for class_ in unique_classes:\n",
    "        class_features = X_train[y_train == class_]\n",
    "        class_stats[class_] = {\n",
    "            'mean': np.mean(class_features, axis=0),\n",
    "            'covariance': np.cov(class_features, rowvar=False)\n",
    "        }\n",
    "\n",
    "    return class_stats\n"
   ]
  },
  {
   "cell_type": "code",
   "execution_count": 89,
   "metadata": {},
   "outputs": [],
   "source": [
    "def log_multivariate_gaussian_pdf(x, mu, sigma):\n",
    "    n = mu.shape[0]\n",
    "    log_det_sigma = calculate_log_det(sigma)\n",
    "    sigma_inv = np.linalg.inv(sigma + np.eye(sigma.shape[0]) * 0.0001)  # Regularized inverse\n",
    "    log_normalization_factor = -0.5 * (n * np.log(2 * np.pi) + log_det_sigma)\n",
    "\n",
    "    diff = x - mu\n",
    "    exponent = -0.5 * np.dot(np.dot(diff.T, sigma_inv), diff)\n",
    "\n",
    "    return log_normalization_factor + exponent\n"
   ]
  },
  {
   "cell_type": "code",
   "execution_count": 90,
   "metadata": {},
   "outputs": [],
   "source": [
    "def gcc_classify(X, class_stats, priors):\n",
    "    predictions = []\n",
    "    for doc in X:\n",
    "        class_probs = {}\n",
    "        for class_, stats in class_stats.items():\n",
    "            class_prob = np.log(priors[class_])\n",
    "            mean, covariance = stats['mean'], stats['covariance']\n",
    "            # Regularize the covariance matrix\n",
    "            class_prob += log_multivariate_gaussian_pdf(doc, mean, covariance)\n",
    "            class_probs[class_] = class_prob\n",
    "        predictions.append(max(class_probs, key=class_probs.get))\n",
    "    return np.array(predictions)\n"
   ]
  },
  {
   "cell_type": "code",
   "execution_count": 91,
   "metadata": {},
   "outputs": [],
   "source": [
    "def calculate_priors(y_train):\n",
    "    unique_classes, counts = np.unique(y_train, return_counts=True)\n",
    "    total_docs = len(y_train)\n",
    "    priors = {class_: count / total_docs for class_, count in zip(unique_classes, counts)}\n",
    "    return priors\n"
   ]
  },
  {
   "cell_type": "code",
   "execution_count": 92,
   "metadata": {},
   "outputs": [],
   "source": [
    "def calculate_log_det(sigma):\n",
    "    # Regularize the covariance matrix\n",
    "    regularized_sigma = sigma + np.eye(sigma.shape[0]) * 0.0001\n",
    "    det = np.linalg.det(regularized_sigma)\n",
    "    if det <= 0:\n",
    "        # Handling non-positive determinant by returning a very large negative number\n",
    "        return -np.inf\n",
    "    return np.log(det)\n"
   ]
  },
  {
   "cell_type": "code",
   "execution_count": 93,
   "metadata": {},
   "outputs": [
    {
     "ename": "KeyboardInterrupt",
     "evalue": "",
     "output_type": "error",
     "traceback": [
      "\u001b[0;31m---------------------------------------------------------------------------\u001b[0m",
      "\u001b[0;31mKeyboardInterrupt\u001b[0m                         Traceback (most recent call last)",
      "\u001b[0;32m/var/folders/gq/5v7478z94cjfrvy9shjn1vbw0000gn/T/ipykernel_33542/1711727202.py\u001b[0m in \u001b[0;36m<module>\u001b[0;34m\u001b[0m\n\u001b[1;32m      4\u001b[0m \u001b[0;34m\u001b[0m\u001b[0m\n\u001b[1;32m      5\u001b[0m \u001b[0;31m# Predict on test set\u001b[0m\u001b[0;34m\u001b[0m\u001b[0;34m\u001b[0m\u001b[0m\n\u001b[0;32m----> 6\u001b[0;31m \u001b[0mgcc_predictions\u001b[0m \u001b[0;34m=\u001b[0m \u001b[0mgcc_classify\u001b[0m\u001b[0;34m(\u001b[0m\u001b[0mX_test_features\u001b[0m\u001b[0;34m,\u001b[0m \u001b[0mclass_stats\u001b[0m\u001b[0;34m,\u001b[0m \u001b[0mpriors\u001b[0m\u001b[0;34m)\u001b[0m\u001b[0;34m\u001b[0m\u001b[0;34m\u001b[0m\u001b[0m\n\u001b[0m\u001b[1;32m      7\u001b[0m \u001b[0;34m\u001b[0m\u001b[0m\n\u001b[1;32m      8\u001b[0m \u001b[0;31m# Evaluate the classifier\u001b[0m\u001b[0;34m\u001b[0m\u001b[0;34m\u001b[0m\u001b[0m\n",
      "\u001b[0;32m/var/folders/gq/5v7478z94cjfrvy9shjn1vbw0000gn/T/ipykernel_33542/781911110.py\u001b[0m in \u001b[0;36mgcc_classify\u001b[0;34m(X, class_stats, priors)\u001b[0m\n\u001b[1;32m      7\u001b[0m             \u001b[0mmean\u001b[0m\u001b[0;34m,\u001b[0m \u001b[0mcovariance\u001b[0m \u001b[0;34m=\u001b[0m \u001b[0mstats\u001b[0m\u001b[0;34m[\u001b[0m\u001b[0;34m'mean'\u001b[0m\u001b[0;34m]\u001b[0m\u001b[0;34m,\u001b[0m \u001b[0mstats\u001b[0m\u001b[0;34m[\u001b[0m\u001b[0;34m'covariance'\u001b[0m\u001b[0;34m]\u001b[0m\u001b[0;34m\u001b[0m\u001b[0;34m\u001b[0m\u001b[0m\n\u001b[1;32m      8\u001b[0m             \u001b[0;31m# Regularize the covariance matrix\u001b[0m\u001b[0;34m\u001b[0m\u001b[0;34m\u001b[0m\u001b[0m\n\u001b[0;32m----> 9\u001b[0;31m             \u001b[0mclass_prob\u001b[0m \u001b[0;34m+=\u001b[0m \u001b[0mlog_multivariate_gaussian_pdf\u001b[0m\u001b[0;34m(\u001b[0m\u001b[0mdoc\u001b[0m\u001b[0;34m,\u001b[0m \u001b[0mmean\u001b[0m\u001b[0;34m,\u001b[0m \u001b[0mcovariance\u001b[0m\u001b[0;34m)\u001b[0m\u001b[0;34m\u001b[0m\u001b[0;34m\u001b[0m\u001b[0m\n\u001b[0m\u001b[1;32m     10\u001b[0m             \u001b[0mclass_probs\u001b[0m\u001b[0;34m[\u001b[0m\u001b[0mclass_\u001b[0m\u001b[0;34m]\u001b[0m \u001b[0;34m=\u001b[0m \u001b[0mclass_prob\u001b[0m\u001b[0;34m\u001b[0m\u001b[0;34m\u001b[0m\u001b[0m\n\u001b[1;32m     11\u001b[0m         \u001b[0mpredictions\u001b[0m\u001b[0;34m.\u001b[0m\u001b[0mappend\u001b[0m\u001b[0;34m(\u001b[0m\u001b[0mmax\u001b[0m\u001b[0;34m(\u001b[0m\u001b[0mclass_probs\u001b[0m\u001b[0;34m,\u001b[0m \u001b[0mkey\u001b[0m\u001b[0;34m=\u001b[0m\u001b[0mclass_probs\u001b[0m\u001b[0;34m.\u001b[0m\u001b[0mget\u001b[0m\u001b[0;34m)\u001b[0m\u001b[0;34m)\u001b[0m\u001b[0;34m\u001b[0m\u001b[0;34m\u001b[0m\u001b[0m\n",
      "\u001b[0;32m/var/folders/gq/5v7478z94cjfrvy9shjn1vbw0000gn/T/ipykernel_33542/2549991884.py\u001b[0m in \u001b[0;36mlog_multivariate_gaussian_pdf\u001b[0;34m(x, mu, sigma)\u001b[0m\n\u001b[1;32m      2\u001b[0m     \u001b[0mn\u001b[0m \u001b[0;34m=\u001b[0m \u001b[0mmu\u001b[0m\u001b[0;34m.\u001b[0m\u001b[0mshape\u001b[0m\u001b[0;34m[\u001b[0m\u001b[0;36m0\u001b[0m\u001b[0;34m]\u001b[0m\u001b[0;34m\u001b[0m\u001b[0;34m\u001b[0m\u001b[0m\n\u001b[1;32m      3\u001b[0m     \u001b[0mlog_det_sigma\u001b[0m \u001b[0;34m=\u001b[0m \u001b[0mcalculate_log_det\u001b[0m\u001b[0;34m(\u001b[0m\u001b[0msigma\u001b[0m\u001b[0;34m)\u001b[0m\u001b[0;34m\u001b[0m\u001b[0;34m\u001b[0m\u001b[0m\n\u001b[0;32m----> 4\u001b[0;31m     \u001b[0msigma_inv\u001b[0m \u001b[0;34m=\u001b[0m \u001b[0mnp\u001b[0m\u001b[0;34m.\u001b[0m\u001b[0mlinalg\u001b[0m\u001b[0;34m.\u001b[0m\u001b[0minv\u001b[0m\u001b[0;34m(\u001b[0m\u001b[0msigma\u001b[0m \u001b[0;34m+\u001b[0m \u001b[0mnp\u001b[0m\u001b[0;34m.\u001b[0m\u001b[0meye\u001b[0m\u001b[0;34m(\u001b[0m\u001b[0msigma\u001b[0m\u001b[0;34m.\u001b[0m\u001b[0mshape\u001b[0m\u001b[0;34m[\u001b[0m\u001b[0;36m0\u001b[0m\u001b[0;34m]\u001b[0m\u001b[0;34m)\u001b[0m \u001b[0;34m*\u001b[0m \u001b[0;36m0.0001\u001b[0m\u001b[0;34m)\u001b[0m  \u001b[0;31m# Regularized inverse\u001b[0m\u001b[0;34m\u001b[0m\u001b[0;34m\u001b[0m\u001b[0m\n\u001b[0m\u001b[1;32m      5\u001b[0m     \u001b[0mlog_normalization_factor\u001b[0m \u001b[0;34m=\u001b[0m \u001b[0;34m-\u001b[0m\u001b[0;36m0.5\u001b[0m \u001b[0;34m*\u001b[0m \u001b[0;34m(\u001b[0m\u001b[0mn\u001b[0m \u001b[0;34m*\u001b[0m \u001b[0mnp\u001b[0m\u001b[0;34m.\u001b[0m\u001b[0mlog\u001b[0m\u001b[0;34m(\u001b[0m\u001b[0;36m2\u001b[0m \u001b[0;34m*\u001b[0m \u001b[0mnp\u001b[0m\u001b[0;34m.\u001b[0m\u001b[0mpi\u001b[0m\u001b[0;34m)\u001b[0m \u001b[0;34m+\u001b[0m \u001b[0mlog_det_sigma\u001b[0m\u001b[0;34m)\u001b[0m\u001b[0;34m\u001b[0m\u001b[0;34m\u001b[0m\u001b[0m\n\u001b[1;32m      6\u001b[0m \u001b[0;34m\u001b[0m\u001b[0m\n",
      "\u001b[0;32m~/opt/anaconda3/lib/python3.9/site-packages/numpy/linalg/linalg.py\u001b[0m in \u001b[0;36minv\u001b[0;34m(a)\u001b[0m\n\u001b[1;32m    559\u001b[0m     \u001b[0msignature\u001b[0m \u001b[0;34m=\u001b[0m \u001b[0;34m'D->D'\u001b[0m \u001b[0;32mif\u001b[0m \u001b[0misComplexType\u001b[0m\u001b[0;34m(\u001b[0m\u001b[0mt\u001b[0m\u001b[0;34m)\u001b[0m \u001b[0;32melse\u001b[0m \u001b[0;34m'd->d'\u001b[0m\u001b[0;34m\u001b[0m\u001b[0;34m\u001b[0m\u001b[0m\n\u001b[1;32m    560\u001b[0m     \u001b[0mextobj\u001b[0m \u001b[0;34m=\u001b[0m \u001b[0mget_linalg_error_extobj\u001b[0m\u001b[0;34m(\u001b[0m\u001b[0m_raise_linalgerror_singular\u001b[0m\u001b[0;34m)\u001b[0m\u001b[0;34m\u001b[0m\u001b[0;34m\u001b[0m\u001b[0m\n\u001b[0;32m--> 561\u001b[0;31m     \u001b[0mainv\u001b[0m \u001b[0;34m=\u001b[0m \u001b[0m_umath_linalg\u001b[0m\u001b[0;34m.\u001b[0m\u001b[0minv\u001b[0m\u001b[0;34m(\u001b[0m\u001b[0ma\u001b[0m\u001b[0;34m,\u001b[0m \u001b[0msignature\u001b[0m\u001b[0;34m=\u001b[0m\u001b[0msignature\u001b[0m\u001b[0;34m,\u001b[0m \u001b[0mextobj\u001b[0m\u001b[0;34m=\u001b[0m\u001b[0mextobj\u001b[0m\u001b[0;34m)\u001b[0m\u001b[0;34m\u001b[0m\u001b[0;34m\u001b[0m\u001b[0m\n\u001b[0m\u001b[1;32m    562\u001b[0m     \u001b[0;32mreturn\u001b[0m \u001b[0mwrap\u001b[0m\u001b[0;34m(\u001b[0m\u001b[0mainv\u001b[0m\u001b[0;34m.\u001b[0m\u001b[0mastype\u001b[0m\u001b[0;34m(\u001b[0m\u001b[0mresult_t\u001b[0m\u001b[0;34m,\u001b[0m \u001b[0mcopy\u001b[0m\u001b[0;34m=\u001b[0m\u001b[0;32mFalse\u001b[0m\u001b[0;34m)\u001b[0m\u001b[0;34m)\u001b[0m\u001b[0;34m\u001b[0m\u001b[0;34m\u001b[0m\u001b[0m\n\u001b[1;32m    563\u001b[0m \u001b[0;34m\u001b[0m\u001b[0m\n",
      "\u001b[0;31mKeyboardInterrupt\u001b[0m: "
     ]
    }
   ],
   "source": [
    "# Calculate priors, class statistics\n",
    "priors = calculate_priors(y_train)\n",
    "class_stats = calculate_class_statistics(X_train_features, y_train)\n",
    "\n",
    "# Predict on test set\n",
    "gcc_predictions = gcc_classify(X_test_features, class_stats, priors)\n",
    "\n",
    "# Evaluate the classifier\n",
    "accuracy = np.mean(gcc_predictions == y_test)\n",
    "print(\"GCC Classifier Accuracy:\", accuracy)\n"
   ]
  },
  {
   "cell_type": "markdown",
   "metadata": {},
   "source": [
    "#### Accuracy"
   ]
  },
  {
   "cell_type": "code",
   "execution_count": null,
   "metadata": {},
   "outputs": [],
   "source": []
  }
 ],
 "metadata": {
  "kernelspec": {
   "display_name": "Python 3 (ipykernel)",
   "language": "python",
   "name": "python3"
  },
  "language_info": {
   "codemirror_mode": {
    "name": "ipython",
    "version": 3
   },
   "file_extension": ".py",
   "mimetype": "text/x-python",
   "name": "python",
   "nbconvert_exporter": "python",
   "pygments_lexer": "ipython3",
   "version": "3.9.13"
  }
 },
 "nbformat": 4,
 "nbformat_minor": 2
}

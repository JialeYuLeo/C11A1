{
 "cells": [
  {
   "cell_type": "markdown",
   "metadata": {},
   "source": [
    "### Part a"
   ]
  },
  {
   "cell_type": "markdown",
   "metadata": {},
   "source": [
    "#### Reads data set"
   ]
  },
  {
   "cell_type": "code",
   "execution_count": 119,
   "metadata": {},
   "outputs": [],
   "source": [
    "import pandas as pd\n",
    "import numpy as np\n",
    "from sklearn.model_selection import train_test_split\n",
    "\n",
    "freq = pd.read_table(\"bbc/bbc.mtx\", skiprows=2, sep=' ', header=None).astype(int).to_numpy()\n",
    "classes = pd.read_table(\"bbc/bbc.classes\", index_col=False, skiprows=4, sep=' ', header=None).astype(int).to_numpy()\n",
    "terms = pd.read_table(\"bbc/bbc.terms\", header=None).to_numpy()\n",
    "\n",
    "doc_num = classes.shape[0]\n",
    "feature_num = terms.shape[0]\n",
    "data = np.zeros((doc_num, feature_num + 1), dtype=int)\n",
    "\n",
    "# Populate data array\n",
    "for row in freq:\n",
    "    term_id, doc_id, frequency = row\n",
    "    # Assuming doc_id and term_id are 1-indexed, decrement them to make them 0-indexed\n",
    "    doc_id -= 1\n",
    "    term_id -= 1\n",
    "    data[int(doc_id), int(term_id)] = int(frequency)\n",
    "\n",
    "# Populate the last column of data with class labels\n",
    "data[:, -1] = classes[:, 1]\n",
    "\n",
    "X_train, X_test = train_test_split(data, test_size=0.3)\n",
    "\n",
    "# Separate features and target\n",
    "X_train_features = X_train[:, :-1]\n",
    "y_train = X_train[:, -1]\n",
    "\n",
    "X_test_features = X_test[:, :-1]\n",
    "y_test = X_test[:, -1]\n",
    "\n"
   ]
  },
  {
   "cell_type": "markdown",
   "metadata": {},
   "source": [
    "#### Training"
   ]
  },
  {
   "cell_type": "code",
   "execution_count": 120,
   "metadata": {},
   "outputs": [],
   "source": [
    "from collections import defaultdict\n",
    "\n",
    "def train_naive_bayes(X_train, y_train):\n",
    "\n",
    "    num_classes = 5\n",
    "    num_features = X_train.shape[1]\n",
    "    # Convert term frequencies to binary representation\n",
    "    binary_train_data =  np.where(X_train > 0, 1, 0)\n",
    "\n",
    "    \n",
    "    class_probs = [1/2,1/2,1/2,1/2,1/2]\n",
    "    class_count=[0,0,0,0,0]\n",
    "    for label in y_train:\n",
    "        class_count[label] += 1\n",
    "    total_docs = len(y_train)\n",
    "\n",
    "    for c in range(5):\n",
    "        class_probs[c] =  class_count[c] / total_docs\n",
    "\n",
    "\n",
    "    # # Calculate term probabilities with Laplace smoothing\n",
    "    term_occ = np.zeros((num_classes, num_features))\n",
    "    aij = np.zeros((num_classes, num_features))\n",
    "\n",
    "    for i in range(len(binary_train_data)):\n",
    "        label = y_train[i]\n",
    "        term_occ[label] += binary_train_data[i]\n",
    "\n",
    "    \n",
    "    for label in range(5):\n",
    "        for i in range(num_features):\n",
    "            if term_occ[label][i] == 0:\n",
    "                # Apply Laplace smoothing only if the term probability is 0\n",
    "                aij[label][i] = 1 / (class_count[label] + 2)\n",
    "            else:\n",
    "                # If the term probability is not 0, use the original probability\n",
    "                aij[label][i] = term_occ[label][i] / class_count[label]\n",
    "\n",
    "    \n",
    "    return class_probs, aij\n"
   ]
  },
  {
   "cell_type": "markdown",
   "metadata": {},
   "source": [
    "#### Predict"
   ]
  },
  {
   "cell_type": "code",
   "execution_count": 121,
   "metadata": {},
   "outputs": [],
   "source": [
    "def predict_naive_bayes(X_test, class_probs, term_probs):\n",
    "    predictions = []\n",
    "    num_features = X_test.shape[1]\n",
    "    # Convert term frequencies to binary representation\n",
    "    binary_test_data =  np.where(X_test > 0, 1, 0)\n",
    "\n",
    "\n",
    "    for k in range(len(binary_test_data)):\n",
    "        alpha = [0,0,0,0,0]\n",
    "        for j in range(5):\n",
    "            for i in range(num_features):\n",
    "                if binary_test_data[k][i] != 0:\n",
    "                    alpha[j] += np.log(term_probs[j][i])\n",
    "                else:\n",
    "                    alpha[j] += np.log(1-term_probs[j][i])\n",
    "            alpha[j] += np.log(class_probs[j])\n",
    "        gamma = np.min(alpha)\n",
    "        posterier = [0,0,0,0,0]\n",
    "        exp = np.sum(np.exp(alpha-gamma))\n",
    "        for j in range(5):\n",
    "            posterier[j] = np.exp(alpha[j] - gamma)/exp\n",
    "        predictions.append(np.argmax(posterier))\n",
    "    return np.array(predictions)\n",
    "\n",
    "\n",
    "# Train the model\n",
    "class_probs, term_probs = train_naive_bayes(X_train_features, y_train)\n",
    "\n",
    "# Predict on the test set\n",
    "y_pred = predict_naive_bayes(X_test_features, class_probs, term_probs)"
   ]
  },
  {
   "cell_type": "markdown",
   "metadata": {},
   "source": [
    "#### Accuracy"
   ]
  },
  {
   "cell_type": "code",
   "execution_count": 122,
   "metadata": {},
   "outputs": [
    {
     "name": "stdout",
     "output_type": "stream",
     "text": [
      "Training Accuracy: 98.46%\n",
      "Testing Accuracy: 95.36%\n"
     ]
    }
   ],
   "source": [
    "train_predictions = predict_naive_bayes(X_train_features, class_probs, term_probs)\n",
    "test_predictions = predict_naive_bayes(X_test_features, class_probs, term_probs)\n",
    "\n",
    "# Compare predictions with actual labels\n",
    "train_accuracy = np.mean(train_predictions == y_train)\n",
    "test_accuracy = np.mean(test_predictions == y_test)\n",
    "\n",
    "# Print classification accuracy\n",
    "print(f\"Training Accuracy: {train_accuracy * 100:.2f}%\")\n",
    "print(f\"Testing Accuracy: {test_accuracy * 100:.2f}%\")\n"
   ]
  },
  {
   "cell_type": "markdown",
   "metadata": {},
   "source": [
    "### Part b"
   ]
  },
  {
   "cell_type": "markdown",
   "metadata": {},
   "source": [
    "#### Load\n"
   ]
  },
  {
   "cell_type": "code",
   "execution_count": 123,
   "metadata": {},
   "outputs": [],
   "source": [
    "import pandas as pd\n",
    "import numpy as np\n",
    "from sklearn.model_selection import train_test_split\n",
    "\n",
    "freq = pd.read_table(\"bbc/bbc.mtx\", skiprows=2, sep=' ', header=None).astype(int).to_numpy()\n",
    "classes = pd.read_table(\"bbc/bbc.classes\", index_col=False, skiprows=4, sep=' ', header=None).astype(int).to_numpy()\n",
    "terms = pd.read_table(\"bbc/bbc.terms\", header=None).to_numpy()\n",
    "\n",
    "doc_num = classes.shape[0]\n",
    "feature_num = terms.shape[0]\n",
    "data = np.zeros((doc_num, feature_num + 1), dtype=int)\n",
    "\n",
    "# Populate data array\n",
    "for row in freq:\n",
    "    term_id, doc_id, frequency = row\n",
    "    # Assuming doc_id and term_id are 1-indexed, decrement them to make them 0-indexed\n",
    "    doc_id -= 1\n",
    "    term_id -= 1\n",
    "    data[int(doc_id), int(term_id)] = int(frequency)\n",
    "\n",
    "# Populate the last column of data with class labels\n",
    "data[:, -1] = classes[:, 0]\n",
    "\n",
    "X_train, X_test = train_test_split(data, test_size=0.3)\n",
    "\n"
   ]
  },
  {
   "cell_type": "markdown",
   "metadata": {},
   "source": [
    "#### Training"
   ]
  },
  {
   "cell_type": "code",
   "execution_count": 124,
   "metadata": {},
   "outputs": [],
   "source": [
    "def predict_naive_bayes(X, class_probabilities, conditional_probabilities):\n",
    "    predictions = []\n",
    "    for x in X:\n",
    "        posteriors = []\n",
    "        for c in class_probabilities.keys():\n",
    "            prior = np.log(class_probabilities[c])\n",
    "            conditional = np.log(conditional_probabilities[c] * x + (1 - conditional_probabilities[c]) * (1 - x)).sum()\n",
    "            posterior = prior + conditional\n",
    "            posteriors.append((c, posterior))\n",
    "        predictions.append(max(posteriors, key=lambda x: x[1])[0])\n",
    "    return np.array(predictions)\n",
    "\n",
    "# Train the model\n",
    "class_probabilities, conditional_probabilities = train_naive_bayes(X_train_features, y_train)\n",
    "\n",
    "# Predict on the test set\n"
   ]
  },
  {
   "cell_type": "markdown",
   "metadata": {},
   "source": [
    "#### Predict"
   ]
  },
  {
   "cell_type": "code",
   "execution_count": null,
   "metadata": {},
   "outputs": [],
   "source": []
  },
  {
   "cell_type": "markdown",
   "metadata": {},
   "source": [
    "#### Accuracy"
   ]
  },
  {
   "cell_type": "code",
   "execution_count": null,
   "metadata": {},
   "outputs": [],
   "source": []
  }
 ],
 "metadata": {
  "kernelspec": {
   "display_name": "Python 3",
   "language": "python",
   "name": "python3"
  },
  "language_info": {
   "codemirror_mode": {
    "name": "ipython",
    "version": 3
   },
   "file_extension": ".py",
   "mimetype": "text/x-python",
   "name": "python",
   "nbconvert_exporter": "python",
   "pygments_lexer": "ipython3",
   "version": "3.10.6"
  }
 },
 "nbformat": 4,
 "nbformat_minor": 2
}

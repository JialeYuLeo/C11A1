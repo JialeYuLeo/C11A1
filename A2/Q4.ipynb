{
 "cells": [
  {
   "cell_type": "markdown",
   "metadata": {},
   "source": [
    "### Part a"
   ]
  },
  {
   "cell_type": "markdown",
   "metadata": {},
   "source": [
    "#### Reads data set"
   ]
  },
  {
   "cell_type": "code",
   "execution_count": null,
   "metadata": {},
   "outputs": [],
   "source": [
    "import pandas as pd\n",
    "import numpy as np\n",
    "from sklearn.model_selection import train_test_split\n",
    "\n",
    "freq = pd.read_table(\"bbc/bbc.mtx\", skiprows=2, sep=' ', header=None).astype(int).to_numpy()\n",
    "classes = pd.read_table(\"bbc/bbc.classes\", index_col=False, skiprows=4, sep=' ', header=None).astype(int).to_numpy()\n",
    "terms = pd.read_table(\"bbc/bbc.terms\", header=None).to_numpy()\n",
    "\n",
    "doc_num = classes.shape[0]\n",
    "feature_num = terms.shape[0]\n",
    "data = np.zeros((doc_num, feature_num + 1), dtype=int)\n",
    "\n",
    "# Populate data array\n",
    "for row in freq:\n",
    "    term_id, doc_id, frequency = row\n",
    "    # Assuming doc_id and term_id are 1-indexed, decrement them to make them 0-indexed\n",
    "    doc_id -= 1\n",
    "    term_id -= 1\n",
    "    data[int(doc_id), int(term_id)] = int(frequency)\n",
    "\n",
    "# Populate the last column of data with class labels\n",
    "data[:, -1] = classes[:, 1]"
   ]
  },
  {
   "cell_type": "code",
   "execution_count": null,
   "metadata": {},
   "outputs": [],
   "source": [
    "X_train, X_test = train_test_split(data, test_size=0.3)\n",
    "\n",
    "# Separate features and target\n",
    "X_train_features = X_train[:, :-1]\n",
    "y_train = X_train[:, -1]\n",
    "\n",
    "X_test_features = X_test[:, :-1]\n",
    "y_test = X_test[:, -1]"
   ]
  },
  {
   "cell_type": "markdown",
   "metadata": {},
   "source": [
    "#### Training"
   ]
  },
  {
   "cell_type": "code",
   "execution_count": null,
   "metadata": {},
   "outputs": [],
   "source": [
    "from collections import defaultdict\n",
    "\n",
    "def train_naive_bayes(X_train, y_train):\n",
    "\n",
    "    num_classes = 5\n",
    "    num_features = X_train.shape[1]\n",
    "    # Convert term frequencies to binary representation\n",
    "    binary_train_data =  np.where(X_train > 0, 1, 0)\n",
    "\n",
    "    \n",
    "    class_probs = [1/2,1/2,1/2,1/2,1/2]\n",
    "    class_count=[0,0,0,0,0]\n",
    "    for label in y_train:\n",
    "        class_count[label] += 1\n",
    "    total_docs = len(y_train)\n",
    "\n",
    "    for c in range(5):\n",
    "        class_probs[c] =  class_count[c] / total_docs\n",
    "\n",
    "\n",
    "    # # Calculate term probabilities with Laplace smoothing\n",
    "    term_occ = np.zeros((num_classes, num_features))\n",
    "    aij = np.zeros((num_classes, num_features))\n",
    "\n",
    "    for i in range(len(binary_train_data)):\n",
    "        label = y_train[i]\n",
    "        term_occ[label] += binary_train_data[i]\n",
    "\n",
    "    \n",
    "    for label in range(5):\n",
    "        for i in range(num_features):\n",
    "            if term_occ[label][i] == 0:\n",
    "                # Apply Laplace smoothing only if the term probability is 0\n",
    "                aij[label][i] = 1 / (class_count[label] + 2)\n",
    "            else:\n",
    "                # If the term probability is not 0, use the original probability\n",
    "                aij[label][i] = term_occ[label][i] / class_count[label]\n",
    "\n",
    "    \n",
    "    return class_probs, aij\n"
   ]
  },
  {
   "cell_type": "markdown",
   "metadata": {},
   "source": [
    "#### Predict"
   ]
  },
  {
   "cell_type": "code",
   "execution_count": null,
   "metadata": {},
   "outputs": [],
   "source": [
    "def predict_naive_bayes(X_test, class_probs, term_probs):\n",
    "    predictions = []\n",
    "    num_features = X_test.shape[1]\n",
    "    # Convert term frequencies to binary representation\n",
    "    binary_test_data =  np.where(X_test > 0, 1, 0)\n",
    "\n",
    "\n",
    "    for k in range(len(binary_test_data)):\n",
    "        alpha = [0,0,0,0,0]\n",
    "        for j in range(5):\n",
    "            for i in range(num_features):\n",
    "                if binary_test_data[k][i] != 0:\n",
    "                    alpha[j] += np.log(term_probs[j][i])\n",
    "                else:\n",
    "                    alpha[j] += np.log(1-term_probs[j][i])\n",
    "            alpha[j] += np.log(class_probs[j])\n",
    "        gamma = np.min(alpha)\n",
    "        posterier = [0,0,0,0,0]\n",
    "        exp = np.sum(np.exp(alpha-gamma))\n",
    "        for j in range(5):\n",
    "            posterier[j] = np.exp(alpha[j] - gamma)/exp\n",
    "        predictions.append(np.argmax(posterier))\n",
    "    return np.array(predictions)\n",
    "\n",
    "\n",
    "# Train the model\n",
    "class_probs, term_probs = train_naive_bayes(X_train_features, y_train)\n",
    "\n",
    "# Predict on the test set\n",
    "y_pred = predict_naive_bayes(X_test_features, class_probs, term_probs)"
   ]
  },
  {
   "cell_type": "markdown",
   "metadata": {},
   "source": [
    "#### Accuracy"
   ]
  },
  {
   "cell_type": "code",
   "execution_count": null,
   "metadata": {},
   "outputs": [],
   "source": [
    "train_predictions = predict_naive_bayes(X_train_features, class_probs, term_probs)\n",
    "test_predictions = predict_naive_bayes(X_test_features, class_probs, term_probs)\n",
    "\n",
    "# Compare predictions with actual labels\n",
    "train_accuracy = np.mean(train_predictions == y_train)\n",
    "test_accuracy = np.mean(test_predictions == y_test)\n",
    "\n",
    "# Print classification accuracy\n",
    "print(f\"Training Accuracy: {train_accuracy * 100:.2f}%\")\n",
    "print(f\"Testing Accuracy: {test_accuracy * 100:.2f}%\")\n"
   ]
  },
  {
   "cell_type": "markdown",
   "metadata": {},
   "source": [
    "### Part b"
   ]
  },
  {
   "cell_type": "markdown",
   "metadata": {},
   "source": [
    "#### Load\n"
   ]
  },
  {
   "cell_type": "code",
   "execution_count": 52,
   "metadata": {},
   "outputs": [],
   "source": [
    "import pandas as pd\n",
    "import numpy as np\n",
    "from sklearn.model_selection import train_test_split\n",
    "\n",
    "freq = pd.read_table(\"bbc/bbc.mtx\", skiprows=2, sep=' ', header=None).astype(int).to_numpy()\n",
    "classes = pd.read_table(\"bbc/bbc.classes\", index_col=False, skiprows=4, sep=' ', header=None).astype(int).to_numpy()\n",
    "terms = pd.read_table(\"bbc/bbc.terms\", header=None).to_numpy()\n",
    "\n",
    "doc_num = classes.shape[0]\n",
    "feature_num = terms.shape[0]\n",
    "data = np.zeros((doc_num, feature_num + 1), dtype=int)\n",
    "\n",
    "# Populate data array\n",
    "for row in freq:\n",
    "    term_id, doc_id, frequency = row\n",
    "    # Assuming doc_id and term_id are 1-indexed, decrement them to make them 0-indexed\n",
    "    doc_id -= 1\n",
    "    term_id -= 1\n",
    "    data[int(doc_id), int(term_id)] = int(frequency)\n",
    "\n",
    "# Populate the last column of data with class labels\n",
    "data[:, -1] = classes[:, 1]\n",
    "X_train, X_test = train_test_split(data, test_size=0.2)\n",
    "\n",
    "# Separate features and target\n",
    "X_train_features = X_train[:, :-1]\n",
    "y_train = X_train[:, -1]\n",
    "\n",
    "X_test_features = X_test[:, :-1]\n",
    "y_test = X_test[:, -1]"
   ]
  },
  {
   "cell_type": "markdown",
   "metadata": {},
   "source": [
    "#### Training"
   ]
  },
  {
   "cell_type": "code",
   "execution_count": 53,
   "metadata": {
    "scrolled": false
   },
   "outputs": [
    {
     "data": {
      "text/plain": [
       "array([[0, 0, 0, ..., 0, 0, 0],\n",
       "       [2, 0, 3, ..., 0, 0, 0],\n",
       "       [0, 0, 0, ..., 0, 0, 0],\n",
       "       ...,\n",
       "       [0, 1, 0, ..., 0, 0, 0],\n",
       "       [0, 0, 0, ..., 0, 0, 0],\n",
       "       [0, 0, 0, ..., 0, 0, 0]])"
      ]
     },
     "execution_count": 53,
     "metadata": {},
     "output_type": "execute_result"
    }
   ],
   "source": [
    "X_test_features"
   ]
  },
  {
   "cell_type": "code",
   "execution_count": 59,
   "metadata": {},
   "outputs": [],
   "source": [
    "def calculate_class_statistics(X_train, y_train):\n",
    "    unique_classes = np.unique(y_train)\n",
    "    class_means = []\n",
    "    class_covariances = []\n",
    "    regularized_covariances = []\n",
    "    inv_covs = []\n",
    "\n",
    "    for class_ in range(5):\n",
    "        class_mask = (y_train == class_)\n",
    "        class_features = X_train[class_mask]\n",
    "        \n",
    "        class_mean = np.mean(class_features, axis=0)\n",
    "        class_covariance = np.cov(class_features, rowvar=False)\n",
    "        \n",
    "        class_means.append(class_mean)\n",
    "        class_covariances.append(class_covariance)\n",
    "\n",
    "        regularized_covariance = class_covariance + np.eye(class_covariance.shape[0]) * 0.0001\n",
    "        regularized_covariances.append(regularized_covariance)\n",
    "\n",
    "        inv_cov = np.linalg.inv(regularized_covariance)\n",
    "        inv_covs.append(inv_cov)\n",
    "\n",
    "    return np.array(class_means), np.array(inv_covs)\n",
    "\n",
    "\n"
   ]
  },
  {
   "cell_type": "code",
   "execution_count": 60,
   "metadata": {},
   "outputs": [
    {
     "name": "stdout",
     "output_type": "stream",
     "text": [
      "[-1.47555546 -1.76405687 -1.69135503 -1.46577543 -1.68831089]\n"
     ]
    }
   ],
   "source": [
    "def calculate_priors(y_train):\n",
    "    unique_classes, counts = np.unique(y_train, return_counts=True)\n",
    "    total_docs = len(y_train)\n",
    "    priors = counts / total_docs\n",
    "    log_priors = np.log(priors)\n",
    "    return log_priors\n",
    "\n",
    "y = calculate_priors(y_train)\n",
    "print(y)"
   ]
  },
  {
   "cell_type": "code",
   "execution_count": 78,
   "metadata": {},
   "outputs": [],
   "source": [
    "def log_multivariate_gaussian_pdf(x, mu, inv_sigma):\n",
    "\n",
    "    n = mu.shape[0]\n",
    "\n",
    "    diff = x - mu\n",
    "    exponent = - 0.5 * diff.T @ inv_sigma @ diff\n",
    "\n",
    "    return  exponent\n"
   ]
  },
  {
   "cell_type": "code",
   "execution_count": 79,
   "metadata": {},
   "outputs": [],
   "source": [
    "def gcc_classify(X, class_means,  inv_covs, priors):\n",
    "    num_classes = 5\n",
    "\n",
    "    class_probs = np.zeros(5)\n",
    "    predictions = np.array([])\n",
    "    for row in X:\n",
    "        for i in range(num_classes):\n",
    "            mean,  inv_cov = class_means[i], inv_covs[i]\n",
    "\n",
    "            class_probs[i] = priors[i] + log_multivariate_gaussian_pdf(row, mean, inv_cov)\n",
    "\n",
    "        # Find the index of the class with the maximum probability for each sample\n",
    "        predictions = np.append(predictions, np.argmax(class_probs))\n",
    "    return predictions\n"
   ]
  },
  {
   "cell_type": "code",
   "execution_count": 84,
   "metadata": {},
   "outputs": [],
   "source": [
    "# Calculate priors, class statistics\n",
    "priors = calculate_priors(y_train)\n",
    "class_means,  invcovs = calculate_class_statistics(X_train_features, y_train)\n",
    "\n",
    "# Predict on test set\n",
    "X_test_predictions = gcc_classify(X_test_features, class_means, invcovs, priors) \n",
    "\n",
    "X_train_predictions = gcc_classify(X_train_features, class_means, invcovs, priors) \n",
    "\n",
    "test_accuracy = np.mean(X_test_predictions == y_test)\n",
    "train_accuracy_accuracy = np.mean(X_train_predictions == y_train)\n",
    "print(\"Test set GCC Classifier Accuracy:\", test_accuracy)\n",
    "print(\"Test set GCC Classifier Accuracy:\", train_accuracy)\n"
   ]
  },
  {
   "cell_type": "markdown",
   "metadata": {},
   "source": [
    "#### Accuracy"
   ]
  },
  {
   "cell_type": "code",
   "execution_count": 83,
   "metadata": {},
   "outputs": [
    {
     "name": "stdout",
     "output_type": "stream",
     "text": [
      "[2. 2. 3. 3. 2. 4. 4. 0. 0. 1. 4. 1. 0. 3. 1. 1. 3. 2. 3. 3. 3. 3. 2. 4.\n",
      " 3. 3. 2. 0. 1. 3. 1. 4. 0. 2. 3. 3. 3. 3. 4. 2. 1. 3. 2. 3. 1. 3. 2. 4.\n",
      " 2. 3. 3. 2. 3. 3. 0. 0. 4. 1. 3. 3. 1. 3. 2. 2. 1. 4. 3. 2. 0. 3. 2. 4.\n",
      " 3. 1. 1. 0. 0. 3. 1. 0. 1. 2. 3. 3. 0. 1. 2. 0. 1. 2. 2. 3. 2. 2. 3. 0.\n",
      " 2. 1. 4. 3. 0. 2. 2. 0. 3. 0. 2. 0. 0. 2. 1. 2. 4. 4. 4. 1. 2. 2. 2. 2.\n",
      " 3. 1. 0. 3. 3. 0. 2. 1. 3. 2. 0. 0. 4. 1. 1. 3. 0. 1. 3. 4. 3. 4. 0. 0.\n",
      " 2. 1. 3. 2. 4. 4. 0. 0. 0. 4. 0. 2. 1. 1. 3. 3. 4. 0. 1. 2. 0. 0. 1. 1.\n",
      " 4. 4. 0. 1. 0. 2. 3. 3. 1. 2. 3. 2. 0. 4. 3. 1. 0. 0. 3. 3. 2. 3. 0. 4.\n",
      " 4. 1. 0. 4. 3. 2. 0. 3. 4. 3. 2. 0. 2. 0. 0. 0. 1. 2. 0. 4. 2. 4. 1. 1.\n",
      " 0. 1. 3. 1. 3. 1. 0. 0. 0. 0. 3. 3. 3. 4. 2. 2. 1. 0. 4. 4. 0. 2. 2. 0.\n",
      " 4. 3. 3. 3. 1. 3. 2. 3. 2. 1. 4. 0. 1. 0. 1. 3. 4. 3. 1. 4. 3. 3. 1. 3.\n",
      " 1. 3. 0. 4. 0. 4. 4. 2. 3. 0. 4. 4. 2. 4. 3. 2. 1. 2. 3. 4. 2. 0. 3. 3.\n",
      " 1. 0. 4. 2. 3. 2. 4. 4. 1. 0. 0. 2. 1. 3. 4. 0. 1. 2. 0. 0. 1. 4. 0. 3.\n",
      " 2. 4. 3. 0. 1. 0. 1. 0. 3. 3. 0. 2. 0. 2. 0. 4. 4. 1. 2. 3. 1. 1. 4. 0.\n",
      " 2. 1. 3. 2. 0. 0. 2. 1. 0. 0. 3. 2. 2. 3. 0. 3. 2. 1. 1. 4. 3. 3. 3. 3.\n",
      " 0. 4. 4. 2. 0. 3. 4. 4. 0. 3. 0. 1. 0. 0. 0. 4. 0. 4. 1. 3. 3. 0. 2. 1.\n",
      " 1. 0. 1. 0. 2. 2. 0. 2. 4. 1. 1. 0. 1. 0. 4. 1. 4. 4. 1. 4. 2. 2. 1. 0.\n",
      " 4. 2. 2. 4. 2. 2. 0. 1. 0. 3. 3. 4. 0. 0. 0. 0. 3. 4. 1. 2. 2. 3. 4. 1.\n",
      " 2. 2. 0. 0. 4. 2. 3. 3. 0. 3. 4. 0. 1.]\n",
      "[3 2 2 ... 2 3 1]\n"
     ]
    }
   ],
   "source": []
  }
 ],
 "metadata": {
  "kernelspec": {
   "display_name": "Python 3 (ipykernel)",
   "language": "python",
   "name": "python3"
  },
  "language_info": {
   "codemirror_mode": {
    "name": "ipython",
    "version": 3
   },
   "file_extension": ".py",
   "mimetype": "text/x-python",
   "name": "python",
   "nbconvert_exporter": "python",
   "pygments_lexer": "ipython3",
   "version": "3.10.6"
  }
 },
 "nbformat": 4,
 "nbformat_minor": 2
}

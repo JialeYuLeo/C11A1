{
 "cells": [
  {
   "cell_type": "markdown",
   "metadata": {},
   "source": [
    "### Question2\n",
    "When considering a binary classification problem where the class-conditional densities are Gaussian.\\\n",
    "The decision boundary is the set of points where the posterior probabilities of the two classes are equal, i.e., $P(C_1|x) = P(C_2|x)$. \n",
    "Suppose we have 2 classes $c_1$ and $c_2$, they has mean and variance ($\\mu_1$, $\\sigma_1$),($\\mu_2$, $\\sigma_2$) respectively. and $\\sigma_1 = \\sigma_2 = \\sigma$\n",
    "\n",
    "We have:\n",
    "\n",
    "$$\n",
    "    P(C_1|x) = \\frac{p(x|C_1)P(C_1)}{p(x)}\n",
    "$$\n",
    "\n",
    "$$\n",
    "    P(C_2|x) = \\frac{p(x|C_2)P(C_2)}{p(x)}\n",
    "$$\n",
    "\n",
    "We want: $P(C_1|x) = P(C_2|x)$\n",
    "We get:\n",
    "\n",
    "$$ \\frac{p(x|C_1)P(C_1)}{p(x)} = \\frac{p(x|C_2)P(C_2)}{p(x)} $$\n",
    "\n",
    "Simplifying, we get:\n",
    "\n",
    "$$ p(x|C_1)P(C_1) = p(x|C_2)P(C_2) $$\n",
    "\n",
    "Substitute $p(x|C_i)$, we get:\n",
    "\n",
    "$$ \\frac{1}{\\sigma\\sqrt{2\\pi}}e^{-\\frac{(x-\\mu_1)^2}{2\\sigma^2}}P(C1) = \\frac{1}{\\sigma\\sqrt{2\\pi}}e^{-\\frac{(x-\\mu_2)^2}{2\\sigma^2}}P(C2) $$\n",
    "\n",
    "Simplifying, we get:\n",
    "\n",
    "$$ e^{-\\frac{(x-\\mu_1)^2}{2\\sigma^2}}P(C_1) = e^{-\\frac{(x-\\mu_2)^2}{2\\sigma^2}}P(C_2) $$\n",
    "\n",
    "Taking the natural logarithm of both sides, we get:\n",
    "\n",
    "$$ -\\frac{(x-\\mu_1)^2}{2\\sigma^2} + \\ln P(C_1) = -\\frac{(x-\\mu_2)^2}{2\\sigma^2} + \\ln P(C_2) $$\n",
    "\n",
    "we get:\n",
    "\n",
    "$$ x = \\frac{\\mu_1 + \\mu_2}{2} + \\frac{\\sigma^2 (\\ln P(C_2) - \\ln P(C_1))}{\\mu_2 - \\mu_1} $$\n",
    "\n",
    "Then x equals to a constant. Therefore the decision boundary is a straight line $$ x = \\frac{\\mu_1 + \\mu_2}{2} + \\frac{\\sigma^2 (\\ln P(C_2) - \\ln P(C_1))}{\\mu_2 - \\mu_1} $$\n",
    "\n"
   ]
  }
 ],
 "metadata": {
  "kernelspec": {
   "display_name": "Python 3 (ipykernel)",
   "language": "python",
   "name": "python3"
  },
  "language_info": {
   "codemirror_mode": {
    "name": "ipython",
    "version": 3
   },
   "file_extension": ".py",
   "mimetype": "text/x-python",
   "name": "python",
   "nbconvert_exporter": "python",
   "pygments_lexer": "ipython3",
   "version": "3.9.13"
  }
 },
 "nbformat": 4,
 "nbformat_minor": 2
}

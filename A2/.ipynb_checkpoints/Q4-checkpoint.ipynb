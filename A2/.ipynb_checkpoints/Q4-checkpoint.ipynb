{
 "cells": [
  {
   "cell_type": "markdown",
   "metadata": {},
   "source": [
    "### Part a"
   ]
  },
  {
   "cell_type": "markdown",
   "metadata": {},
   "source": [
    "#### Reads data set"
   ]
  },
  {
   "cell_type": "code",
   "execution_count": 2,
   "metadata": {},
   "outputs": [],
   "source": [
    "import pandas as pd\n",
    "import numpy as np\n",
    "from sklearn.model_selection import train_test_split\n",
    "\n",
    "freq = pd.read_table(\"bbc/bbc.mtx\", skiprows=2, sep=' ', header=None).astype(int).to_numpy()\n",
    "classes = pd.read_table(\"bbc/bbc.classes\", index_col=False, skiprows=4, sep=' ', header=None).astype(int).to_numpy()\n",
    "terms = pd.read_table(\"bbc/bbc.terms\", header=None).to_numpy()"
   ]
  },
  {
   "cell_type": "code",
   "execution_count": 3,
   "metadata": {},
   "outputs": [
    {
     "data": {
      "text/plain": [
       "array([[   1,    1,    1],\n",
       "       [   1,    7,    2],\n",
       "       [   1,   11,    1],\n",
       "       ...,\n",
       "       [9635, 2184,    1],\n",
       "       [9635, 2186,    1],\n",
       "       [9635, 2218,    1]])"
      ]
     },
     "execution_count": 3,
     "metadata": {},
     "output_type": "execute_result"
    }
   ],
   "source": [
    "freq"
   ]
  },
  {
   "cell_type": "code",
   "execution_count": 4,
   "metadata": {},
   "outputs": [
    {
     "data": {
      "text/plain": [
       "array([[   0,    0],\n",
       "       [   1,    0],\n",
       "       [   2,    0],\n",
       "       ...,\n",
       "       [2222,    4],\n",
       "       [2223,    4],\n",
       "       [2224,    4]])"
      ]
     },
     "execution_count": 4,
     "metadata": {},
     "output_type": "execute_result"
    }
   ],
   "source": [
    "classes"
   ]
  },
  {
   "cell_type": "code",
   "execution_count": 5,
   "metadata": {},
   "outputs": [
    {
     "data": {
      "text/plain": [
       "array([['ad'],\n",
       "       ['sale'],\n",
       "       ['boost'],\n",
       "       ...,\n",
       "       ['peripher'],\n",
       "       ['headphon'],\n",
       "       ['flavour']], dtype=object)"
      ]
     },
     "execution_count": 5,
     "metadata": {},
     "output_type": "execute_result"
    }
   ],
   "source": [
    "terms"
   ]
  },
  {
   "cell_type": "code",
   "execution_count": 1,
   "metadata": {},
   "outputs": [],
   "source": [
    "doc_num = classes.shape[0]\n",
    "feature_num = terms.shape[0]\n",
    "data = np.zeros((doc_num, feature_num + 1), dtype=int)\n",
    "\n",
    "# Populate data array\n",
    "for row in freq:\n",
    "    term_id, doc_id, frequency = row\n",
    "    # Assuming doc_id and term_id are 1-indexed, decrement them to make them 0-indexed\n",
    "    doc_id -= 1\n",
    "    term_id -= 1\n",
    "    data[int(doc_id), int(term_id)] = int(frequency)\n",
    "\n",
    "# Populate the last column of data with class labels\n",
    "data[:, -1] = classes[:, 1]\n",
    "\n",
    "X_train, X_test = train_test_split(data, test_size=0.3)\n",
    "\n",
    "# Separate features and target\n",
    "X_train_features = X_train[:, :-1]\n",
    "y_train = X_train[:, -1]\n",
    "\n",
    "#print(X_train)\n",
    "#print(y_train)"
   ]
  },
  {
   "cell_type": "markdown",
   "metadata": {},
   "source": [
    "#### Training"
   ]
  },
  {
   "cell_type": "code",
   "execution_count": 103,
   "metadata": {},
   "outputs": [],
   "source": [
    "from collections import defaultdict\n",
    "\n",
    "def train_naive_bayes(X_train, y_train):\n",
    "\n",
    "    num_classes = 5\n",
    "    num_features = X_train.shape[1] - 1\n",
    "    \n",
    "    # Convert term frequencies to binary representation\n",
    "    binary_train_data = np.where(X_train[:, :-1] > 0, 1, 0)\n",
    "\n",
    "\n",
    "     # Calculate class probabilities\n",
    "    class_probs = defaultdict(int)\n",
    "\n",
    "    for label in y_train:\n",
    "        class_probs[label] += 1\n",
    "    total_docs = len(y_train)\n",
    "\n",
    "    for label in class_probs:\n",
    "        class_probs[label] /= total_docs\n",
    "\n",
    "\n",
    "    # # Calculate term probabilities with Laplace smoothing\n",
    "    term_probs = np.zeros((num_classes, num_features))\n",
    "\n",
    "\n",
    "    for i in range(len(binary_train_data)):\n",
    "        label = y_train[i]\n",
    "        term_probs[label] += binary_train_data[i]\n",
    "    \n",
    "\n",
    "    for label in range(num_classes):\n",
    "        total_terms = num_features + 2  # Laplace smoothing\n",
    "        term_probs[label] = (term_probs[label] + 1) / total_terms\n",
    "    \n",
    "    print(term_probs)\n",
    "    return class_probs, term_probs\n"
   ]
  },
  {
   "cell_type": "markdown",
   "metadata": {},
   "source": [
    "#### Predict"
   ]
  },
  {
   "cell_type": "code",
   "execution_count": 104,
   "metadata": {},
   "outputs": [
    {
     "name": "stdout",
     "output_type": "stream",
     "text": [
      "[[2.31783283e-03 2.60756193e-03 1.44864552e-03 ... 2.41440919e-05\n",
      "  2.41440919e-05 2.41440919e-05]\n",
      " [2.07373272e-03 1.61290323e-03 2.63331139e-04 ... 3.29163924e-05\n",
      "  3.29163924e-05 3.29163924e-05]\n",
      " [2.48968395e-03 2.07473662e-04 5.53263100e-04 ... 2.30526292e-05\n",
      "  2.30526292e-05 2.30526292e-05]\n",
      " [2.76536382e-03 5.43196464e-04 3.20979729e-04 ... 2.46907484e-05\n",
      "  2.46907484e-05 2.46907484e-05]\n",
      " [1.78746594e-03 1.24250681e-03 2.83378747e-04 ... 8.71934605e-05\n",
      "  6.53950954e-05 6.53950954e-05]]\n"
     ]
    }
   ],
   "source": [
    "def predict_naive_bayes(X_test, class_probs, term_probs):\n",
    "    predictions = []\n",
    "    \n",
    "    # Convert term frequencies to binary representation\n",
    "    binary_test_data = np.where(X_test[:, :-1] > 0, 1, 0)\n",
    "\n",
    "    for i in range(len(binary_test_data)):\n",
    "        scores = defaultdict(float)\n",
    "        for label, class_prob in class_probs.items():\n",
    "            scores[label] += np.log(class_prob)\n",
    "            for j in range(len(binary_test_data[i])):\n",
    "                scores[label] += binary_test_data[i][j] * np.log(term_probs[label][j])\n",
    "\n",
    "        predicted_label = max(scores, key=scores.get)\n",
    "        predictions.append(predicted_label)\n",
    "\n",
    "    return predictions\n",
    "\n",
    "\n",
    "\n",
    "# Train the model\n",
    "class_probabilities, conditional_probabilities = train_naive_bayes(X_train_features, y_train)\n",
    "\n",
    "# Predict on the test set\n",
    "y_pred = predict_naive_bayes(X_test[:, :-1], class_probabilities, conditional_probabilities)"
   ]
  },
  {
   "cell_type": "markdown",
   "metadata": {},
   "source": [
    "#### Accuracy"
   ]
  },
  {
   "cell_type": "code",
   "execution_count": null,
   "metadata": {},
   "outputs": [],
   "source": [
    "def calculate_accuracy(expected, actual):\n",
    "    correct_num=0\n",
    "    for i in range(expected.shape[0]):\n",
    "        if (expected[i,0] == actual[i,0]):\n",
    "            correct_num += 1\n",
    "    return correct_num/expected.shape[0]\n",
    "\n",
    "\n",
    "# calculate accuracy of training data\n",
    "accuracy_train = calculate_accuracy(NB_result_train, X_train[:,X_train.shape[1]-1].reshape((X_train.shape[0], 1)))\n",
    "print(\"The accuracy of training data is \", accuracy_train, \"\\n\")\n",
    "\n",
    "# calculate accuracy of testing data\n",
    "accuracy_test = calculate_accuracy(NB_result_test, X_test[:,X_test.shape[1]-1].reshape((X_test.shape[0], 1)))\n",
    "print(\"The accuracy of testing data is \", accuracy_test, \"\\n\")\n"
   ]
  },
  {
   "cell_type": "markdown",
   "metadata": {},
   "source": [
    "### Part b"
   ]
  },
  {
   "cell_type": "markdown",
   "metadata": {},
   "source": [
    "#### Load\n"
   ]
  },
  {
   "cell_type": "code",
   "execution_count": null,
   "metadata": {},
   "outputs": [],
   "source": [
    "import pandas as pd\n",
    "import numpy as np\n",
    "from sklearn.model_selection import train_test_split\n",
    "\n",
    "freq = pd.read_table(\"bbc/bbc.mtx\", skiprows=2, sep=' ', header=None).astype(int).to_numpy()\n",
    "classes = pd.read_table(\"bbc/bbc.classes\", index_col=False, skiprows=4, sep=' ', header=None).astype(int).to_numpy()\n",
    "terms = pd.read_table(\"bbc/bbc.terms\", header=None).to_numpy()\n",
    "\n",
    "doc_num = classes.shape[0]\n",
    "feature_num = terms.shape[0]\n",
    "data = np.zeros((doc_num, feature_num + 1), dtype=int)\n",
    "\n",
    "# Populate data array\n",
    "for row in freq:\n",
    "    term_id, doc_id, frequency = row\n",
    "    # Assuming doc_id and term_id are 1-indexed, decrement them to make them 0-indexed\n",
    "    doc_id -= 1\n",
    "    term_id -= 1\n",
    "    data[int(doc_id), int(term_id)] = int(frequency)\n",
    "\n",
    "# Populate the last column of data with class labels\n",
    "data[:, -1] = classes[:, 0]\n",
    "\n",
    "X_train, X_test = train_test_split(data, test_size=0.3)\n",
    "\n"
   ]
  },
  {
   "cell_type": "markdown",
   "metadata": {},
   "source": [
    "#### Training"
   ]
  },
  {
   "cell_type": "code",
   "execution_count": null,
   "metadata": {},
   "outputs": [],
   "source": [
    "def predict_naive_bayes(X, class_probabilities, conditional_probabilities):\n",
    "    predictions = []\n",
    "    for x in X:\n",
    "        posteriors = []\n",
    "        for c in class_probabilities.keys():\n",
    "            prior = np.log(class_probabilities[c])\n",
    "            conditional = np.log(conditional_probabilities[c] * x + (1 - conditional_probabilities[c]) * (1 - x)).sum()\n",
    "            posterior = prior + conditional\n",
    "            posteriors.append((c, posterior))\n",
    "        predictions.append(max(posteriors, key=lambda x: x[1])[0])\n",
    "    return np.array(predictions)\n",
    "\n",
    "# Train the model\n",
    "class_probabilities, conditional_probabilities = train_naive_bayes(X_train_features, y_train)\n",
    "\n",
    "# Predict on the test set\n"
   ]
  },
  {
   "cell_type": "markdown",
   "metadata": {},
   "source": [
    "#### Predict"
   ]
  },
  {
   "cell_type": "code",
   "execution_count": null,
   "metadata": {},
   "outputs": [],
   "source": []
  },
  {
   "cell_type": "markdown",
   "metadata": {},
   "source": [
    "#### Accuracy"
   ]
  },
  {
   "cell_type": "code",
   "execution_count": null,
   "metadata": {},
   "outputs": [],
   "source": []
  }
 ],
 "metadata": {
  "kernelspec": {
   "display_name": "Python 3 (ipykernel)",
   "language": "python",
   "name": "python3"
  },
  "language_info": {
   "codemirror_mode": {
    "name": "ipython",
    "version": 3
   },
   "file_extension": ".py",
   "mimetype": "text/x-python",
   "name": "python",
   "nbconvert_exporter": "python",
   "pygments_lexer": "ipython3",
   "version": "3.9.13"
  }
 },
 "nbformat": 4,
 "nbformat_minor": 2
}

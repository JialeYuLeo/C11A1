{
 "cells": [
  {
   "cell_type": "markdown",
   "metadata": {},
   "source": [
    "### Question 1\n",
    "Under this ensemble binary classification technique, error occurs when more than half of the result of the classifiers is wrong.\n",
    "So we should sums the possibilities of more than $\\frac{N-1}{2}$ classifiers produce wrong prediction.\n",
    "Hence we have:\n",
    "$$\n",
    "P_{\\text{ensemble}} = \\sum_{k= \\frac{N+1}{2}}^{N} {N \\choose k} \\epsilon^k (1-\\epsilon)^{N-k}\n",
    "$$\n",
    "\n",
    "Where $ {N \\choose k}$  representing the number of ways to choose k classifiers from N\\\n",
    "$\\epsilon^k$ representing the probability that k classifiers wrong\\\n",
    "$(1-\\epsilon)^{N-k}$  representing the probability that the remaining classifiers correct"
   ]
  }
 ],
 "metadata": {
  "language_info": {
   "name": "python"
  }
 },
 "nbformat": 4,
 "nbformat_minor": 2
}

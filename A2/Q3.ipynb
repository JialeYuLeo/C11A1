{
 "cells": [
  {
   "cell_type": "code",
   "execution_count": 1,
   "id": "49330a0c",
   "metadata": {},
   "outputs": [],
   "source": [
    "import numpy as np"
   ]
  },
  {
   "cell_type": "code",
   "execution_count": 2,
   "id": "d10c25c7",
   "metadata": {},
   "outputs": [],
   "source": [
    "# Sigmoid function\n",
    "def sigmoid(x):\n",
    "    return 1 / (1 + np.exp(-x))\n",
    "\n",
    "\n",
    "# Gradient descent function\n",
    "def gradient_descent(X, y, theta, learning_rate, iterations):\n",
    "\n",
    "    cost_history = np.zeros(iterations)\n",
    "\n",
    "    for i in range(iterations):\n",
    "        p = sigmoid(np.dot(X, theta))\n",
    "        gradient = np.dot(X.T, (p - y))\n",
    "        theta -= learning_rate * gradient\n",
    "\n",
    "    return theta"
   ]
  },
  {
   "cell_type": "code",
   "execution_count": 3,
   "id": "74265631",
   "metadata": {},
   "outputs": [],
   "source": [
    "# Example usage:\n",
    "X = np.array([[4, 4,1],[6,4,1] ,[6,5,1], [6,8,1], [6,10,1], [8, 8,1], [8, 10,1]])  # feature matrix\n",
    "y = np.array([1,1,1,0,0,1,0])  # labels\n",
    "theta_0 = np.array([0.3, -0.2, 0.7])  # initial parameters\n",
    "learning_rate = 0.01"
   ]
  },
  {
   "cell_type": "code",
   "execution_count": 4,
   "id": "c7004912",
   "metadata": {},
   "outputs": [
    {
     "name": "stdout",
     "output_type": "stream",
     "text": [
      "[ 0.20477175 -0.35426438  0.68685387]\n",
      "6\n"
     ]
    }
   ],
   "source": [
    "#first iteration\n",
    "theta = gradient_descent(X, y, theta_0, learning_rate, 1)\n",
    "print(theta)\n",
    "y_pred = np.round(sigmoid(np.dot(X, theta)))\n",
    "correct_predictions = np.sum(y_pred == y)\n",
    "print(correct_predictions)"
   ]
  },
  {
   "cell_type": "code",
   "execution_count": 5,
   "id": "8f351f00",
   "metadata": {},
   "outputs": [
    {
     "name": "stdout",
     "output_type": "stream",
     "text": [
      "[ 0.27208574 -0.35574855  0.69978802]\n",
      "7\n"
     ]
    }
   ],
   "source": [
    "#second iteration\n",
    "theta = gradient_descent(X, y, theta_0, learning_rate, 2)\n",
    "print(theta)\n",
    "y_pred = np.round(sigmoid(np.dot(X, theta)))\n",
    "correct_predictions = np.sum(y_pred == y)\n",
    "print(correct_predictions)"
   ]
  },
  {
   "cell_type": "code",
   "execution_count": 6,
   "id": "86152130",
   "metadata": {
    "scrolled": true
   },
   "outputs": [
    {
     "name": "stdout",
     "output_type": "stream",
     "text": [
      "[ 0.33601437 -0.39214756  0.71342568]\n",
      "7\n"
     ]
    }
   ],
   "source": [
    "#third iteration\n",
    "theta = gradient_descent(X, y, theta_0, learning_rate, 3)\n",
    "print(theta)\n",
    "y_pred = np.round(sigmoid(np.dot(X, theta)))\n",
    "correct_predictions = np.sum(y_pred == y)\n",
    "print(correct_predictions)"
   ]
  },
  {
   "cell_type": "code",
   "execution_count": 7,
   "id": "ace60fd0",
   "metadata": {},
   "outputs": [
    {
     "name": "stdout",
     "output_type": "stream",
     "text": [
      "[1. 0. 1. 0.]\n"
     ]
    }
   ],
   "source": [
    "P = np.array([[3,3,1],[4,10,1],[9,8,1],[9,10,1]])\n",
    "y_pred = np.round(sigmoid(np.dot(P, theta)))\n",
    "print(y_pred)"
   ]
  },
  {
   "cell_type": "code",
   "execution_count": null,
   "id": "e2a4abe6",
   "metadata": {},
   "outputs": [],
   "source": []
  },
  {
   "cell_type": "code",
   "execution_count": null,
   "id": "ea2cc7a6",
   "metadata": {},
   "outputs": [],
   "source": []
  }
 ],
 "metadata": {
  "kernelspec": {
   "display_name": "Python 3 (ipykernel)",
   "language": "python",
   "name": "python3"
  },
  "language_info": {
   "codemirror_mode": {
    "name": "ipython",
    "version": 3
   },
   "file_extension": ".py",
   "mimetype": "text/x-python",
   "name": "python",
   "nbconvert_exporter": "python",
   "pygments_lexer": "ipython3",
   "version": "3.9.13"
  }
 },
 "nbformat": 4,
 "nbformat_minor": 5
}

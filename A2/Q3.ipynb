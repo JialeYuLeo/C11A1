{
 "cells": [
  {
   "cell_type": "code",
   "execution_count": 2,
   "id": "49330a0c",
   "metadata": {},
   "outputs": [],
   "source": [
    "import numpy as np"
   ]
  },
  {
   "cell_type": "code",
   "execution_count": 6,
   "id": "d10c25c7",
   "metadata": {},
   "outputs": [],
   "source": [
    "# Sigmoid function\n",
    "def sigmoid(x):\n",
    "    return 1 / (1 + np.exp(-x))\n",
    "\n",
    "\n",
    "def gradient_descent(X, y, theta, learning_rate, iterations):\n",
    "    # Make a copy of the original theta values\n",
    "    theta_copy = theta.copy()\n",
    "\n",
    "    for i in range(iterations):\n",
    "        p = sigmoid(np.dot(X, theta_copy))\n",
    "        gradient = np.dot(X.T, (p - y))\n",
    "        # Update the copy of theta\n",
    "        theta_copy -= learning_rate * gradient\n",
    "\n",
    "    return theta_copy"
   ]
  },
  {
   "cell_type": "code",
   "execution_count": 7,
   "id": "74265631",
   "metadata": {},
   "outputs": [],
   "source": [
    "# Example usage:\n",
    "X = np.array([[4, 4,1],[6,4,1] ,[6,5,1], [6,8,1], [6,10,1], [8, 8,1], [8, 10,1]])  # feature matrix\n",
    "y = np.array([1,1,1,0,0,1,0])  # labels\n",
    "theta_0 = np.array([0.3, -0.2, 0.7])  # initial parameters\n",
    "learning_rate = 0.01"
   ]
  },
  {
   "cell_type": "code",
   "execution_count": 8,
   "id": "c7004912",
   "metadata": {},
   "outputs": [
    {
     "name": "stdout",
     "output_type": "stream",
     "text": [
      "[ 0.3 -0.2  0.7]\n",
      "[ 0.20477175 -0.35426438  0.68685387]\n",
      "6\n"
     ]
    }
   ],
   "source": [
    "#first iteration\n",
    "print(theta_0)\n",
    "theta = gradient_descent(X, y, theta_0, learning_rate, 1)\n",
    "print(theta)\n",
    "y_pred = np.round(sigmoid(np.dot(X, theta)))\n",
    "correct_predictions = np.sum(y_pred == y)\n",
    "print(correct_predictions)"
   ]
  },
  {
   "cell_type": "code",
   "execution_count": 9,
   "id": "8f351f00",
   "metadata": {},
   "outputs": [
    {
     "name": "stdout",
     "output_type": "stream",
     "text": [
      "[ 0.3 -0.2  0.7]\n",
      "[ 0.10954349 -0.50852876  0.67370775]\n",
      "3\n"
     ]
    }
   ],
   "source": [
    "#second iteration\n",
    "print(theta_0)\n",
    "theta = gradient_descent(X, y, theta_0, learning_rate, 2)\n",
    "print(theta)\n",
    "y_pred = np.round(sigmoid(np.dot(X, theta)))\n",
    "correct_predictions = np.sum(y_pred == y)\n",
    "print(correct_predictions)"
   ]
  },
  {
   "cell_type": "code",
   "execution_count": 10,
   "id": "86152130",
   "metadata": {
    "scrolled": true
   },
   "outputs": [
    {
     "name": "stdout",
     "output_type": "stream",
     "text": [
      "[ 0.01431524 -0.66279314  0.66056162]\n",
      "3\n"
     ]
    }
   ],
   "source": [
    "#third iteration\n",
    "theta = gradient_descent(X, y, theta_0, learning_rate, 3)\n",
    "print(theta)\n",
    "y_pred = np.round(sigmoid(np.dot(X, theta)))\n",
    "correct_predictions = np.sum(y_pred == y)\n",
    "print(correct_predictions)"
   ]
  },
  {
   "cell_type": "code",
   "execution_count": null,
   "id": "ace60fd0",
   "metadata": {},
   "outputs": [],
   "source": [
    "P = np.array([[3,3,1],[4,10,1],[9,8,1],[9,10,1]])\n",
    "y_pred = np.round(sigmoid(np.dot(P, theta)))\n",
    "print(y_pred)"
   ]
  },
  {
   "cell_type": "code",
   "execution_count": null,
   "id": "e2a4abe6",
   "metadata": {},
   "outputs": [],
   "source": []
  },
  {
   "cell_type": "code",
   "execution_count": null,
   "id": "ea2cc7a6",
   "metadata": {},
   "outputs": [],
   "source": []
  }
 ],
 "metadata": {
  "kernelspec": {
   "display_name": "Python 3 (ipykernel)",
   "language": "python",
   "name": "python3"
  },
  "language_info": {
   "codemirror_mode": {
    "name": "ipython",
    "version": 3
   },
   "file_extension": ".py",
   "mimetype": "text/x-python",
   "name": "python",
   "nbconvert_exporter": "python",
   "pygments_lexer": "ipython3",
   "version": "3.10.6"
  }
 },
 "nbformat": 4,
 "nbformat_minor": 5
}
